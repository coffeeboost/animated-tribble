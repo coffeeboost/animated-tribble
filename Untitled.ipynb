{
 "cells": [
  {
   "cell_type": "code",
   "execution_count": 2,
   "id": "b6737fdc-27d8-4241-92e2-773fc8bc1fee",
   "metadata": {},
   "outputs": [],
   "source": [
    "from scipy.stats import ttest_ind"
   ]
  },
  {
   "cell_type": "code",
   "execution_count": 3,
   "id": "02536f37-e111-4241-8f4b-81858d71cc63",
   "metadata": {},
   "outputs": [],
   "source": [
    "import pandas as pd"
   ]
  },
  {
   "cell_type": "code",
   "execution_count": 4,
   "id": "5007091b-e36f-4f1c-adb9-860af818e00f",
   "metadata": {},
   "outputs": [],
   "source": [
    "df = pd.read_csv('exams.csv')"
   ]
  },
  {
   "cell_type": "code",
   "execution_count": 5,
   "id": "62236ba5-deb3-44f6-8031-1eba0d3be77c",
   "metadata": {},
   "outputs": [
    {
     "data": {
      "text/html": [
       "<div>\n",
       "<style scoped>\n",
       "    .dataframe tbody tr th:only-of-type {\n",
       "        vertical-align: middle;\n",
       "    }\n",
       "\n",
       "    .dataframe tbody tr th {\n",
       "        vertical-align: top;\n",
       "    }\n",
       "\n",
       "    .dataframe thead th {\n",
       "        text-align: right;\n",
       "    }\n",
       "</style>\n",
       "<table border=\"1\" class=\"dataframe\">\n",
       "  <thead>\n",
       "    <tr style=\"text-align: right;\">\n",
       "      <th></th>\n",
       "      <th>gender</th>\n",
       "      <th>race/ethnicity</th>\n",
       "      <th>parental level of education</th>\n",
       "      <th>lunch</th>\n",
       "      <th>test preparation course</th>\n",
       "      <th>math score</th>\n",
       "      <th>reading score</th>\n",
       "      <th>writing score</th>\n",
       "    </tr>\n",
       "  </thead>\n",
       "  <tbody>\n",
       "    <tr>\n",
       "      <th>0</th>\n",
       "      <td>male</td>\n",
       "      <td>group A</td>\n",
       "      <td>high school</td>\n",
       "      <td>standard</td>\n",
       "      <td>completed</td>\n",
       "      <td>67</td>\n",
       "      <td>67</td>\n",
       "      <td>63</td>\n",
       "    </tr>\n",
       "    <tr>\n",
       "      <th>1</th>\n",
       "      <td>female</td>\n",
       "      <td>group D</td>\n",
       "      <td>some high school</td>\n",
       "      <td>free/reduced</td>\n",
       "      <td>none</td>\n",
       "      <td>40</td>\n",
       "      <td>59</td>\n",
       "      <td>55</td>\n",
       "    </tr>\n",
       "    <tr>\n",
       "      <th>2</th>\n",
       "      <td>male</td>\n",
       "      <td>group E</td>\n",
       "      <td>some college</td>\n",
       "      <td>free/reduced</td>\n",
       "      <td>none</td>\n",
       "      <td>59</td>\n",
       "      <td>60</td>\n",
       "      <td>50</td>\n",
       "    </tr>\n",
       "    <tr>\n",
       "      <th>3</th>\n",
       "      <td>male</td>\n",
       "      <td>group B</td>\n",
       "      <td>high school</td>\n",
       "      <td>standard</td>\n",
       "      <td>none</td>\n",
       "      <td>77</td>\n",
       "      <td>78</td>\n",
       "      <td>68</td>\n",
       "    </tr>\n",
       "    <tr>\n",
       "      <th>4</th>\n",
       "      <td>male</td>\n",
       "      <td>group E</td>\n",
       "      <td>associate's degree</td>\n",
       "      <td>standard</td>\n",
       "      <td>completed</td>\n",
       "      <td>78</td>\n",
       "      <td>73</td>\n",
       "      <td>68</td>\n",
       "    </tr>\n",
       "  </tbody>\n",
       "</table>\n",
       "</div>"
      ],
      "text/plain": [
       "   gender race/ethnicity parental level of education         lunch  \\\n",
       "0    male        group A                 high school      standard   \n",
       "1  female        group D            some high school  free/reduced   \n",
       "2    male        group E                some college  free/reduced   \n",
       "3    male        group B                 high school      standard   \n",
       "4    male        group E          associate's degree      standard   \n",
       "\n",
       "  test preparation course  math score  reading score  writing score  \n",
       "0               completed          67             67             63  \n",
       "1                    none          40             59             55  \n",
       "2                    none          59             60             50  \n",
       "3                    none          77             78             68  \n",
       "4               completed          78             73             68  "
      ]
     },
     "execution_count": 5,
     "metadata": {},
     "output_type": "execute_result"
    }
   ],
   "source": [
    "df.head()"
   ]
  },
  {
   "cell_type": "code",
   "execution_count": 61,
   "id": "0cb30d97-7d7d-409d-912c-a0a6e619155d",
   "metadata": {},
   "outputs": [],
   "source": [
    "df_male = df.loc[df['gender'] == 'male']\n",
    "df_female = df.loc[df['gender'] != 'male']"
   ]
  },
  {
   "cell_type": "code",
   "execution_count": 62,
   "id": "124e92c9-1fbd-4293-bfbf-2264af9cbc3c",
   "metadata": {},
   "outputs": [],
   "source": [
    "df_male = df_male.iloc[:483,5:8]"
   ]
  },
  {
   "cell_type": "code",
   "execution_count": 63,
   "id": "1103fa3b-3e54-46d7-a63d-c66098517968",
   "metadata": {},
   "outputs": [],
   "source": [
    "df_female = df_female.iloc[:483,5:8]"
   ]
  },
  {
   "cell_type": "code",
   "execution_count": 64,
   "id": "aa746656-145f-4cc9-badd-f142257170f7",
   "metadata": {},
   "outputs": [
    {
     "data": {
      "text/plain": [
       "Ttest_indResult(statistic=array([ 6.16565224, -6.06790781, -8.00169732]), pvalue=array([1.03088495e-09, 1.86001656e-09, 3.50754839e-15]))"
      ]
     },
     "execution_count": 64,
     "metadata": {},
     "output_type": "execute_result"
    }
   ],
   "source": [
    "ttest_ind(df_male, df_female)"
   ]
  },
  {
   "cell_type": "code",
   "execution_count": 41,
   "id": "31676dbe-ca5e-4aa0-b7c3-4006e3fe49c6",
   "metadata": {},
   "outputs": [
    {
     "data": {
      "text/plain": [
       "math score       69.213251\n",
       "reading score    66.217391\n",
       "writing score    63.898551\n",
       "dtype: float64"
      ]
     },
     "execution_count": 41,
     "metadata": {},
     "output_type": "execute_result"
    }
   ],
   "source": [
    "df_male.mean()"
   ]
  },
  {
   "cell_type": "code",
   "execution_count": 40,
   "id": "9b9dde36-d6eb-422e-b52e-c95a25c76e7b",
   "metadata": {},
   "outputs": [
    {
     "data": {
      "text/plain": [
       "math score       63.196687\n",
       "reading score    71.888199\n",
       "writing score    71.708075\n",
       "dtype: float64"
      ]
     },
     "execution_count": 40,
     "metadata": {},
     "output_type": "execute_result"
    }
   ],
   "source": [
    "df_female.mean()"
   ]
  },
  {
   "cell_type": "code",
   "execution_count": 65,
   "id": "3317c1b4-4c81-424c-a13e-818d4ccba339",
   "metadata": {},
   "outputs": [],
   "source": [
    "df_completed = df.loc[df['test preparation course'] == 'completed']\n",
    "df_not_completed = df.loc[df['test preparation course'] != 'completed']"
   ]
  },
  {
   "cell_type": "code",
   "execution_count": 66,
   "id": "1e191c4c-bb0b-4385-8c91-631fdcfb02a0",
   "metadata": {},
   "outputs": [
    {
     "data": {
      "text/plain": [
       "(335, 8)"
      ]
     },
     "execution_count": 66,
     "metadata": {},
     "output_type": "execute_result"
    }
   ],
   "source": [
    "df_completed.shape"
   ]
  },
  {
   "cell_type": "code",
   "execution_count": 67,
   "id": "94dc2d3b-1436-44d7-ae08-21caa529d5cc",
   "metadata": {},
   "outputs": [
    {
     "data": {
      "text/plain": [
       "(665, 8)"
      ]
     },
     "execution_count": 67,
     "metadata": {},
     "output_type": "execute_result"
    }
   ],
   "source": [
    "df_not_completed.shape"
   ]
  },
  {
   "cell_type": "code",
   "execution_count": 68,
   "id": "cf79d1ba-a7f4-4522-bbfa-5ea818074c9c",
   "metadata": {},
   "outputs": [],
   "source": [
    "df_completed = df_completed.iloc[:335, 5:8]\n",
    "df_not_completed = df_not_completed.iloc[:335, 5:8]"
   ]
  },
  {
   "cell_type": "code",
   "execution_count": 69,
   "id": "fb142656-148b-431b-8701-b9332e7c61ef",
   "metadata": {},
   "outputs": [
    {
     "data": {
      "text/plain": [
       "Ttest_indResult(statistic=array([4.58763142, 7.12473287, 9.42106886]), pvalue=array([5.35436911e-06, 2.70840770e-12, 7.14483046e-20]))"
      ]
     },
     "execution_count": 69,
     "metadata": {},
     "output_type": "execute_result"
    }
   ],
   "source": [
    "ttest_ind(df_completed, df_not_completed)"
   ]
  },
  {
   "cell_type": "code",
   "execution_count": 73,
   "id": "f0bc39b5-f65f-46ba-a9c4-5aaa7fab1983",
   "metadata": {},
   "outputs": [],
   "source": [
    "small_df = df.iloc[:,4:]"
   ]
  },
  {
   "cell_type": "code",
   "execution_count": 77,
   "id": "9b05fc52-e8b4-4ed6-a284-a13a1d23a2df",
   "metadata": {},
   "outputs": [],
   "source": [
    "small_df['test preparation course'] = small_df['test preparation course'].replace('completed', 1).replace('none', 0)"
   ]
  },
  {
   "cell_type": "code",
   "execution_count": 83,
   "id": "19e499bd-0bb7-493a-8365-36b07b8e504e",
   "metadata": {},
   "outputs": [
    {
     "data": {
      "text/html": [
       "<div>\n",
       "<style scoped>\n",
       "    .dataframe tbody tr th:only-of-type {\n",
       "        vertical-align: middle;\n",
       "    }\n",
       "\n",
       "    .dataframe tbody tr th {\n",
       "        vertical-align: top;\n",
       "    }\n",
       "\n",
       "    .dataframe thead th {\n",
       "        text-align: right;\n",
       "    }\n",
       "</style>\n",
       "<table border=\"1\" class=\"dataframe\">\n",
       "  <thead>\n",
       "    <tr style=\"text-align: right;\">\n",
       "      <th></th>\n",
       "      <th>test preparation course</th>\n",
       "      <th>math score</th>\n",
       "      <th>reading score</th>\n",
       "      <th>writing score</th>\n",
       "    </tr>\n",
       "  </thead>\n",
       "  <tbody>\n",
       "    <tr>\n",
       "      <th>test preparation course</th>\n",
       "      <td>1.000000</td>\n",
       "      <td>0.151704</td>\n",
       "      <td>0.245144</td>\n",
       "      <td>0.315601</td>\n",
       "    </tr>\n",
       "    <tr>\n",
       "      <th>math score</th>\n",
       "      <td>0.151704</td>\n",
       "      <td>1.000000</td>\n",
       "      <td>0.819398</td>\n",
       "      <td>0.805944</td>\n",
       "    </tr>\n",
       "    <tr>\n",
       "      <th>reading score</th>\n",
       "      <td>0.245144</td>\n",
       "      <td>0.819398</td>\n",
       "      <td>1.000000</td>\n",
       "      <td>0.954274</td>\n",
       "    </tr>\n",
       "    <tr>\n",
       "      <th>writing score</th>\n",
       "      <td>0.315601</td>\n",
       "      <td>0.805944</td>\n",
       "      <td>0.954274</td>\n",
       "      <td>1.000000</td>\n",
       "    </tr>\n",
       "  </tbody>\n",
       "</table>\n",
       "</div>"
      ],
      "text/plain": [
       "                         test preparation course  math score  reading score  \\\n",
       "test preparation course                 1.000000    0.151704       0.245144   \n",
       "math score                              0.151704    1.000000       0.819398   \n",
       "reading score                           0.245144    0.819398       1.000000   \n",
       "writing score                           0.315601    0.805944       0.954274   \n",
       "\n",
       "                         writing score  \n",
       "test preparation course       0.315601  \n",
       "math score                    0.805944  \n",
       "reading score                 0.954274  \n",
       "writing score                 1.000000  "
      ]
     },
     "execution_count": 83,
     "metadata": {},
     "output_type": "execute_result"
    }
   ],
   "source": [
    "small_df.corr()"
   ]
  },
  {
   "cell_type": "code",
   "execution_count": 85,
   "id": "af030866-a776-43d6-92f2-86fd9d81655c",
   "metadata": {},
   "outputs": [],
   "source": [
    "another_small_df = df[[\"gender\", \"math score\", \"reading score\", \"writing score\"]]"
   ]
  },
  {
   "cell_type": "code",
   "execution_count": 90,
   "id": "eb51e433-b3ee-4da2-b284-935fd36e765b",
   "metadata": {},
   "outputs": [],
   "source": [
    "another_small_df = another_small_df.replace({\"gender\": {\"male\": 1, \"female\": 0}})"
   ]
  },
  {
   "cell_type": "code",
   "execution_count": 91,
   "id": "52dea159-fd8f-4113-b932-e3c0c465c3ad",
   "metadata": {},
   "outputs": [
    {
     "data": {
      "text/html": [
       "<div>\n",
       "<style scoped>\n",
       "    .dataframe tbody tr th:only-of-type {\n",
       "        vertical-align: middle;\n",
       "    }\n",
       "\n",
       "    .dataframe tbody tr th {\n",
       "        vertical-align: top;\n",
       "    }\n",
       "\n",
       "    .dataframe thead th {\n",
       "        text-align: right;\n",
       "    }\n",
       "</style>\n",
       "<table border=\"1\" class=\"dataframe\">\n",
       "  <thead>\n",
       "    <tr style=\"text-align: right;\">\n",
       "      <th></th>\n",
       "      <th>gender</th>\n",
       "      <th>math score</th>\n",
       "      <th>reading score</th>\n",
       "      <th>writing score</th>\n",
       "    </tr>\n",
       "  </thead>\n",
       "  <tbody>\n",
       "    <tr>\n",
       "      <th>gender</th>\n",
       "      <td>1.000000</td>\n",
       "      <td>0.200863</td>\n",
       "      <td>-0.189389</td>\n",
       "      <td>-0.246089</td>\n",
       "    </tr>\n",
       "    <tr>\n",
       "      <th>math score</th>\n",
       "      <td>0.200863</td>\n",
       "      <td>1.000000</td>\n",
       "      <td>0.819398</td>\n",
       "      <td>0.805944</td>\n",
       "    </tr>\n",
       "    <tr>\n",
       "      <th>reading score</th>\n",
       "      <td>-0.189389</td>\n",
       "      <td>0.819398</td>\n",
       "      <td>1.000000</td>\n",
       "      <td>0.954274</td>\n",
       "    </tr>\n",
       "    <tr>\n",
       "      <th>writing score</th>\n",
       "      <td>-0.246089</td>\n",
       "      <td>0.805944</td>\n",
       "      <td>0.954274</td>\n",
       "      <td>1.000000</td>\n",
       "    </tr>\n",
       "  </tbody>\n",
       "</table>\n",
       "</div>"
      ],
      "text/plain": [
       "                 gender  math score  reading score  writing score\n",
       "gender         1.000000    0.200863      -0.189389      -0.246089\n",
       "math score     0.200863    1.000000       0.819398       0.805944\n",
       "reading score -0.189389    0.819398       1.000000       0.954274\n",
       "writing score -0.246089    0.805944       0.954274       1.000000"
      ]
     },
     "execution_count": 91,
     "metadata": {},
     "output_type": "execute_result"
    }
   ],
   "source": [
    "another_small_df.corr()"
   ]
  },
  {
   "cell_type": "code",
   "execution_count": null,
   "id": "c8f701dd-8133-49d7-b44e-d54d3b03f780",
   "metadata": {},
   "outputs": [],
   "source": []
  }
 ],
 "metadata": {
  "kernelspec": {
   "display_name": "veryuniquedisplayname2",
   "language": "python",
   "name": "python3"
  },
  "language_info": {
   "codemirror_mode": {
    "name": "ipython",
    "version": 3
   },
   "file_extension": ".py",
   "mimetype": "text/x-python",
   "name": "python",
   "nbconvert_exporter": "python",
   "pygments_lexer": "ipython3",
   "version": "3.8.9"
  }
 },
 "nbformat": 4,
 "nbformat_minor": 5
}
